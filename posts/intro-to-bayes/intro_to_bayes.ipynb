{
 "cells": [
  {
   "cell_type": "markdown",
   "id": "c3aa2694",
   "metadata": {},
   "source": [
    "---\n",
    "title: \"An Introduction To Bayesian Statistics\"\n",
    "author: \"Brandon Scott\"\n",
    "date: \"2022-12-24\"\n",
    "categories: [analysis, bayesian]\n",
    "format:\n",
    "    html:\n",
    "        code-fold: true\n",
    "image: bayes_theorem.jpg\n",
    "jupyter: python3\n",
    "---"
   ]
  },
  {
   "cell_type": "markdown",
   "id": "ad6666db",
   "metadata": {},
   "source": [
    "The foundation for the Bayesian section of the blog"
   ]
  },
  {
   "cell_type": "markdown",
   "id": "e8dd2373",
   "metadata": {},
   "source": [
    "# TL;DR"
   ]
  },
  {
   "cell_type": "markdown",
   "id": "990a6ec3",
   "metadata": {},
   "source": [
    "Statistics has long been a subject of great debate because of the way it is implmented. Due to \"arbitrary\" rules or guidelines that the academic community or business organizations follow in this field, it can be easy to be confused as to why certain numbers matter, if results from experiments actually have genuine impact, and how can we improve of the results we obtained. As well, what do we do when a test results contradicts what a subject matter expert says they expected to happen? Bayesian methods attempt to clear the confusion surrounding statistics. Bayesian methods allow us to incorporate our own knowledge into statistical modeling practices to properly draw conclusions from data. From those conclusions, we can gain direction and insight on what kind of decisions to make to better guide an organization. "
   ]
  },
  {
   "cell_type": "markdown",
   "id": "eff7929f",
   "metadata": {},
   "source": [
    "# Introduction: A New Place"
   ]
  },
  {
   "cell_type": "markdown",
   "id": "7674a19b",
   "metadata": {},
   "source": [
    "<center><img src=\"https://www.metrotransit.org/Data/Sites/1/media/buses/MetroTransit-HybridbusL.jpg\"></center>"
   ]
  },
  {
   "cell_type": "markdown",
   "id": "63fc832c",
   "metadata": {},
   "source": [
    "Suppose you just moved to a new town as a budding new data analyst. You wish to take advantage of the public transit found in said city and want to be on time every day to your new job. You look up the bus times associated with the closest bus stop to your house and see that the bus comes every 15 minutes starting on the hour. Using google maps, it appears that it takes about 45 mins to ride to your work on bus. You decide that you want to arrive at the bus station by no later than 8:15am to make the bus that will get you to your work by 9:00am. Sadly, where you live, the weather is not the best (especially in the morning) so the last thing you want to do is wait at the bus stop longer than necessary."
   ]
  },
  {
   "cell_type": "markdown",
   "id": "52fc2d97",
   "metadata": {},
   "source": [
    "Fortunately, analyzing data and interpreting the data to drive actionable insights is your job! This is the perfect situation to apply some statistical methods to approximate accurately when you should arrive at the bus station to minimize the wait time at the bus while maximizing your likelihood of you making the bus. However, you don't want to take a large sample size of data to confirm your hypothesis of when to arrive at the bus stop. Therefore, is there a way you can make accurate predictions about when to arrive at the bus stop to ensure you make the bus while not waiting forever for it?"
   ]
  },
  {
   "cell_type": "markdown",
   "id": "702eabdf",
   "metadata": {},
   "source": [
    "One way to approach the above problem would be to use your prior knowledge of your old bus system. While it obviously is not the exact same as your old town, chances are they are very similar in reliability and frequency. Therefore, you conclude that if this new town's bus system is similar to your old town's system, the new bus would arrive about +- 3 minutes from its scheduled arrival time. After coming to this conclusion, you decide to arrive 5 minutes before the scheduled arrival time to ensure you would make the bus. You wait at the bus stop and the bus arrives 1 minute past its scheduled arrival time, meaning you waited there for 6 mins total. From this observation, you decide to arrive 3 minutes before the bus arrives, since perhaps the bus might always be late by 1 minute, but you want to still be sure you make the bus. This time, the bus arrives 1 minute before its scheduled arrival time, meaning you waited at the bus stop for 2 minutes. You repeat this process for a week. After a week, you feel like you have the bus times down. You conclude that 95% of the time the bus arrives within 2 minutes of its scheduled arrival time, so naturally the earliest you have to be at the bus stop is a little more than 2 minutes before its scheduled arrival time to make the bus while also not having to wait a long time."
   ]
  },
  {
   "cell_type": "markdown",
   "id": "13c9bc3f",
   "metadata": {},
   "source": [
    "# Bayesian Inference: The Math Behind Updating Beliefs"
   ]
  },
  {
   "cell_type": "markdown",
   "id": "5ddb5442",
   "metadata": {},
   "source": [
    "The example above is a major simplification of the actual mathematical implementation of Bayesian inference. However, it does capture the idea that there is a way to update our belief in something by drawing on past data (prior belief) and updating that belief with new data that we observe, thus obtaining a a new distribution of uncertainty we use in judgements/calculations. The formula for this kind of thinking is shown below."
   ]
  },
  {
   "cell_type": "markdown",
   "id": "7bfa48f5",
   "metadata": {},
   "source": [
    "<center>\n",
    " \\begin{equation}\n",
    "P(H|\\theta) = \\frac{P(\\theta|H) P(H)}{P(\\theta)}\n",
    "\\end{equation}\n",
    "</center>"
   ]
  },
  {
   "cell_type": "markdown",
   "id": "91effd51",
   "metadata": {},
   "source": [
    "<center>\\begin{equation} H = \\text{Our Hypothesis (prior)} \\end{equation}<br>\n",
    "\\begin{equation}\\theta = \\text{Our Data} \\end{equation}<br>\n",
    "\\begin{equation}P(H|\\theta) = \\text{Probability of observing our hypothesis given the data we've seen (posterior)} \\end{equation}<br>\n",
    "\\begin{equation}P(H) = \\text{Probability of our hypothesis (prior)} \\end{equation} <br>\n",
    "\\begin{equation}P(\\theta|H) = \\text{Probability of our data given our hypothesis is true (likelihood)} \\end{equation} <br>\n",
    "\\begin{equation}P(\\theta) = \\text{Probability of our data} \\end{equation}</center>\n"
   ]
  },
  {
   "cell_type": "markdown",
   "id": "a1aa7f9f",
   "metadata": {},
   "source": [
    "The above formula is the generalized bayes formula used for bayesian statistical inference. To make the formula feel a bit more intuitive, let's utilize our bus example. Our hypothesis $(H)$ was that the bus would arrive within +- 3 minutes of scheduled arrival time. We update this belief by conditioning on the data $(\\theta)$ we've seen. In our bus example, when we went to the bus stop for the first time, arriving 5 minutes early, the bus came within 1 minute of scheduled arrival time (1 minute late to be exact). Therefore, I updated my belief that if this is a normal bus day, this new bus system actually arrives in a closer timeframe than the previous bus system. However, since this was only my first day on the bus, I didn't want to jump to any firm conclusions quite yet. I decided that I would experiment and try arriving 3 minutes early. From that, I observed that again the bus came within 1 minute of scheduled arrival (1 minute early to be exact). "
   ]
  },
  {
   "cell_type": "markdown",
   "id": "7dfbf630",
   "metadata": {},
   "source": [
    "This process of constantly updating is what the formula above generalizes. We all have <strong>prior</strong> beliefs/opinions about something, be it a bus system, train system, hospital, etc. that gets updated by new events (data) that we observe. This is the beauty of Bayesian statistics. Bayesian methods allow for <strong>constant updates</strong> rather than strong conclusions that other statistical methods endorse."
   ]
  },
  {
   "cell_type": "markdown",
   "id": "046967c0",
   "metadata": {},
   "source": [
    "# Car Accidents: A Bayesian Example"
   ]
  },
  {
   "cell_type": "markdown",
   "id": "eb5be0c6",
   "metadata": {},
   "source": [
    "Let's provide another example of the usefulness of Bayes theorem above. Hopefully this example, if the above formula and explanation still confuse you due to the math notation, will provide clarity on what all those symbols mean. Suppose you work for a car insurance company. Your company has three tiers of ages it covers:"
   ]
  },
  {
   "cell_type": "markdown",
   "id": "629f7f5e",
   "metadata": {},
   "source": [
    "\\begin{array}{|c|c|} \n",
    "\\hline Age & \\% clients \\\\\\hline\n",
    "Young & 25\\% \\\\\n",
    "Middle Age & 50\\% \\\\\n",
    "Old & 25\\%\n",
    "\\\\\\hline\n",
    "\\end{array}"
   ]
  },
  {
   "cell_type": "code",
   "execution_count": null,
   "id": "ead0311a",
   "metadata": {},
   "outputs": [],
   "source": []
  }
 ],
 "metadata": {
  "kernelspec": {
   "display_name": "Python 3 (ipykernel)",
   "language": "python",
   "name": "python3"
  },
  "language_info": {
   "codemirror_mode": {
    "name": "ipython",
    "version": 3
   },
   "file_extension": ".py",
   "mimetype": "text/x-python",
   "name": "python",
   "nbconvert_exporter": "python",
   "pygments_lexer": "ipython3",
   "version": "3.10.9"
  }
 },
 "nbformat": 4,
 "nbformat_minor": 5
}
