{
 "cells": [
  {
   "cell_type": "markdown",
   "id": "c3aa2694",
   "metadata": {},
   "source": [
    "---\n",
    "title: \"An Introduction To Bayesian Statistics\"\n",
    "author: \"Brandon Scott\"\n",
    "date: \"2022-12-24\"\n",
    "categories: [analysis, bayesian]\n",
    "draft: true\n",
    "format:\n",
    "    html:\n",
    "        code-fold: true\n",
    "jupyter: python3\n",
    "---"
   ]
  },
  {
   "cell_type": "markdown",
   "id": "ad6666db",
   "metadata": {},
   "source": [
    "The foundation for the Bayesian section of the blog"
   ]
  },
  {
   "cell_type": "markdown",
   "id": "e8dd2373",
   "metadata": {},
   "source": [
    "# TL;DR"
   ]
  },
  {
   "cell_type": "markdown",
   "id": "990a6ec3",
   "metadata": {},
   "source": [
    "Statistics has long been a subject of great debate because of the way it is implmented. Due to \"arbitrary\" rules or guidelines that the academic community or business organizations follow in this field, it can be easy to be confused as to why certain numbers matter, if results from experiments actually have genuine impact, and how can we improve of the results we obtained. As well, what do we do when a test results contradicts what a subject matter expert says they expected to happen? Bayesian methods attempt to clear the confusion surrounding statistics. Bayesian methods allow us to incorporate our own knowledge into statistical modeling practices to properly draw conclusions from data. From those conclusions, we can gain direction and insight on what kind of decisions to make to better guide an organization. "
   ]
  },
  {
   "cell_type": "markdown",
   "id": "eff7929f",
   "metadata": {},
   "source": [
    "# Introduction: A New Place"
   ]
  },
  {
   "cell_type": "markdown",
   "id": "7674a19b",
   "metadata": {},
   "source": [
    "<center><img src=\"https://www.metrotransit.org/Data/Sites/1/media/buses/MetroTransit-HybridbusL.jpg\"></center>"
   ]
  },
  {
   "cell_type": "markdown",
   "id": "9264b221-0659-4ace-a12e-3fd1bc7f667c",
   "metadata": {},
   "source": [
    "Suppose you have just moved to a new city and want to take advantage of the bus system to get to work. Before your first day of work, you research the bus route that would best serve you to get to work. The bus passes by the stop closest to your house every 15 minutes, starting at the top of the hour. The route is estimated to take about 45 minutes to get to your office, where it will drop you off right in front of it. You make the goal that you want to be at work by 9:00am every day. Therefore, you know the latest bus you want to take is the one that comes at 8:15am. The problem is, it rains a lot where you live, so you don't want to wait too long at the bus station. You want to wait the minimal amount of time possible where you know you can still make the 8:15am bus. How can you reasonably determine what time to arrive at the bus stop in order to not miss your bus?"
   ]
  },
  {
   "cell_type": "markdown",
   "id": "ef1dbabd-a7b8-47ef-b4b4-4a503bf75540",
   "metadata": {},
   "source": [
    "Quantifying uncertainty? That sounds exactly like a statistics problem! We use statistics to quantify scenarios by using data from those scenarios to make inference, or judgement calls based on what we have observed in the data. Everyone has been exposed to data in some kind. Numbers and data points are thrown around all over the place these days. \"60% of people brush their teeth twice a day\", \"A poll shows that 85% of people prefer (insert candidate name here) with a margin of error of 5%\", etc. In order to quantify our above problem, we would need to collect data and perform some calculations in order to answer, with high certainty, what time we should arrive at the bus stop to minimize waiting time. "
   ]
  },
  {
   "cell_type": "markdown",
   "id": "705be95b-39f8-473a-b8c2-39cf1f8fee88",
   "metadata": {},
   "source": [
    "What are some potential barriers to this? Well, collecting data is a huge barrier in this case. We already said we don't want to wait out in the rain very long for a bus to come. We most certainly don't want to wait outside for hours watching the bus come and go. If you're in luck, the city may have a website where they keep their bus route logs that you can parse through and gather data that way. More than likely though, there will not be a system for this. How can we solve this problem statistically if we can't collect enough data to make sound statistical judgements?"
   ]
  },
  {
   "cell_type": "markdown",
   "id": "907eef46-01be-4880-a2fd-d78a6852fd19",
   "metadata": {},
   "source": [
    "# Bayesian Inference: A New Framework For Statistical Thinking"
   ]
  },
  {
   "cell_type": "markdown",
   "id": "1ed79845-0907-4667-9ca3-a8be901b70e5",
   "metadata": {},
   "source": [
    "Let's think for a moment how you made decisions before learning about statistics and their use for data validation/inference. To stick with the current example, let's throw it back to when you used to wait for the bus to pick you up from school. How did you know when to arrive at the bus stop? What influenced your judgement call? If you are like me, I let the every day occurence affect my thinking. If the first day of school my bus driver was a couple minutes late, I would think this is the first day and it probably won't happen again. Let's say the next day they are late again by the same amount of time. This provokes me to think I should show up a little bit later than scheduled arrival time to minimize my wait time at the bus stop. "
   ]
  },
  {
   "cell_type": "markdown",
   "id": "cc033de4-f659-450a-aff0-c2a2168e883f",
   "metadata": {},
   "source": [
    "This process is repeated"
   ]
  },
  {
   "cell_type": "markdown",
   "id": "13c9bc3f",
   "metadata": {
    "tags": []
   },
   "source": [
    "# The Math Behind Updating Beliefs"
   ]
  },
  {
   "cell_type": "markdown",
   "id": "5ddb5442",
   "metadata": {},
   "source": [
    "The example above is a major simplification of the actual mathematical implementation of Bayesian inference. However, it does capture the idea that there is a way to update our belief in something by drawing on past data (prior belief) and updating that belief with new data that we observe, thus obtaining a a new distribution of uncertainty we use in judgements/calculations. The formula for this kind of thinking is shown below."
   ]
  },
  {
   "cell_type": "markdown",
   "id": "7bfa48f5",
   "metadata": {},
   "source": [
    "<center>\n",
    " \\begin{equation}\n",
    "P(H|\\theta) = \\frac{P(\\theta|H) P(H)}{P(\\theta)}\n",
    "\\end{equation}\n",
    "</center>"
   ]
  },
  {
   "cell_type": "markdown",
   "id": "91effd51",
   "metadata": {},
   "source": [
    "<center>\\begin{equation} H = \\text{Our Hypothesis (prior)} \\end{equation}<br>\n",
    "\\begin{equation}\\theta = \\text{Our Data} \\end{equation}<br>\n",
    "\\begin{equation}P(H|\\theta) = \\text{Probability of observing our hypothesis given the data we've seen (posterior)} \\end{equation}<br>\n",
    "\\begin{equation}P(H) = \\text{Probability of our hypothesis (prior)} \\end{equation} <br>\n",
    "\\begin{equation}P(\\theta|H) = \\text{Probability of our data given our hypothesis is true (likelihood)} \\end{equation} <br>\n",
    "\\begin{equation}P(\\theta) = \\text{Probability of our data} \\end{equation}</center>\n"
   ]
  },
  {
   "cell_type": "markdown",
   "id": "a1aa7f9f",
   "metadata": {},
   "source": [
    "The above formula is the generalized bayes formula used for bayesian statistical inference. To make the formula feel a bit more intuitive, let's utilize our bus example. Our hypothesis $(H)$ was that the bus would arrive within +- 3 minutes of scheduled arrival time. We update this belief by conditioning on the data $(\\theta)$ we've seen. In our bus example, when we went to the bus stop for the first time, arriving 5 minutes early, the bus came within 1 minute of scheduled arrival time (1 minute late to be exact). Therefore, I updated my belief that if this is a normal bus day, this new bus system actually arrives in a closer timeframe than the previous bus system. However, since this was only my first day on the bus, I didn't want to jump to any firm conclusions quite yet. I decided that I would experiment and try arriving 3 minutes early. From that, I observed that again the bus came within 1 minute of scheduled arrival (1 minute early to be exact). "
   ]
  },
  {
   "cell_type": "markdown",
   "id": "0fb14329",
   "metadata": {},
   "source": [
    "This process of constantly updating is what the formula above generalizes. We all have <strong>prior</strong> beliefs/opinions about something, be it a bus system, train system, hospital, etc. that gets updated by new events (data) that we observe. This is the beauty of Bayesian statistics. Bayesian methods allow for <strong>constant updates</strong> rather than strong conclusions that other statistical methods endorse."
   ]
  },
  {
   "cell_type": "markdown",
   "id": "6fc3db6a",
   "metadata": {},
   "source": [
    "# Car Accidents: A Bayesian Example"
   ]
  },
  {
   "cell_type": "markdown",
   "id": "85a9f172",
   "metadata": {},
   "source": [
    "Let's provide another example of the usefulness of Bayes theorem above. Hopefully this example, if the above formula and explanation still confuse you due to the math notation, will provide clarity on what all those symbols mean. Suppose you work for a car insurance company. Your company has three tiers of ages it covers:"
   ]
  },
  {
   "cell_type": "markdown",
   "id": "135f275f",
   "metadata": {},
   "source": [
    "\\begin{array}{|c|c|} \n",
    "\\hline Age & \\% clients \\\\\\hline\n",
    "Young & 25\\% \\\\\n",
    "Middle Age & 50\\% \\\\\n",
    "Old & 25\\%\n",
    "\\\\\\hline\n",
    "\\end{array}"
   ]
  },
  {
   "cell_type": "code",
   "execution_count": null,
   "id": "83fa23be",
   "metadata": {},
   "outputs": [],
   "source": []
  }
 ],
 "metadata": {
  "kernelspec": {
   "display_name": "Python 3 (ipykernel)",
   "language": "python",
   "name": "python3"
  },
  "language_info": {
   "codemirror_mode": {
    "name": "ipython",
    "version": 3
   },
   "file_extension": ".py",
   "mimetype": "text/x-python",
   "name": "python",
   "nbconvert_exporter": "python",
   "pygments_lexer": "ipython3",
   "version": "3.10.9"
  }
 },
 "nbformat": 4,
 "nbformat_minor": 5
}
